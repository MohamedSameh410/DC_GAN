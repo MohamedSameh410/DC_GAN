{
  "nbformat": 4,
  "nbformat_minor": 0,
  "metadata": {
    "colab": {
      "provenance": [],
      "authorship_tag": "ABX9TyPgc7SA+fYM5PsJnoy9dBGb",
      "include_colab_link": true
    },
    "kernelspec": {
      "name": "python3",
      "display_name": "Python 3"
    },
    "language_info": {
      "name": "python"
    },
    "accelerator": "GPU",
    "gpuClass": "standard"
  },
  "cells": [
    {
      "cell_type": "markdown",
      "metadata": {
        "id": "view-in-github",
        "colab_type": "text"
      },
      "source": [
        "<a href=\"https://colab.research.google.com/github/MohamedSameh410/DC_GAN/blob/main/DC__GAN.ipynb\" target=\"_parent\"><img src=\"https://colab.research.google.com/assets/colab-badge.svg\" alt=\"Open In Colab\"/></a>"
      ]
    },
    {
      "cell_type": "markdown",
      "source": [
        "Imports"
      ],
      "metadata": {
        "id": "weefR2aFlIHw"
      }
    },
    {
      "cell_type": "code",
      "execution_count": 48,
      "metadata": {
        "id": "TehWYEtUk2W4"
      },
      "outputs": [],
      "source": [
        "import torch\n",
        "import torch.nn as nn\n",
        "import torch.optim as optim\n",
        "import torchvision\n",
        "import torchvision.datasets as datasets\n",
        "import torchvision.transforms as transforms\n",
        "from torch.utils.data import DataLoader\n",
        "from torch.utils.tensorboard import SummaryWriter"
      ]
    },
    {
      "cell_type": "markdown",
      "source": [
        "Import dataset from kaggle"
      ],
      "metadata": {
        "id": "B37_xGH4kXow"
      }
    },
    {
      "cell_type": "code",
      "source": [
        "!pip install -q kaggle\n",
        "from google.colab import files\n",
        "files.upload()"
      ],
      "metadata": {
        "colab": {
          "base_uri": "https://localhost:8080/",
          "height": 92
        },
        "id": "Y0Z8rE_MjgfC",
        "outputId": "dfba2914-783f-4810-862e-fc1046e38c80"
      },
      "execution_count": 49,
      "outputs": [
        {
          "output_type": "display_data",
          "data": {
            "text/plain": [
              "<IPython.core.display.HTML object>"
            ],
            "text/html": [
              "\n",
              "     <input type=\"file\" id=\"files-07b5a1a0-ab6c-44e8-b078-244455fddf71\" name=\"files[]\" multiple disabled\n",
              "        style=\"border:none\" />\n",
              "     <output id=\"result-07b5a1a0-ab6c-44e8-b078-244455fddf71\">\n",
              "      Upload widget is only available when the cell has been executed in the\n",
              "      current browser session. Please rerun this cell to enable.\n",
              "      </output>\n",
              "      <script>// Copyright 2017 Google LLC\n",
              "//\n",
              "// Licensed under the Apache License, Version 2.0 (the \"License\");\n",
              "// you may not use this file except in compliance with the License.\n",
              "// You may obtain a copy of the License at\n",
              "//\n",
              "//      http://www.apache.org/licenses/LICENSE-2.0\n",
              "//\n",
              "// Unless required by applicable law or agreed to in writing, software\n",
              "// distributed under the License is distributed on an \"AS IS\" BASIS,\n",
              "// WITHOUT WARRANTIES OR CONDITIONS OF ANY KIND, either express or implied.\n",
              "// See the License for the specific language governing permissions and\n",
              "// limitations under the License.\n",
              "\n",
              "/**\n",
              " * @fileoverview Helpers for google.colab Python module.\n",
              " */\n",
              "(function(scope) {\n",
              "function span(text, styleAttributes = {}) {\n",
              "  const element = document.createElement('span');\n",
              "  element.textContent = text;\n",
              "  for (const key of Object.keys(styleAttributes)) {\n",
              "    element.style[key] = styleAttributes[key];\n",
              "  }\n",
              "  return element;\n",
              "}\n",
              "\n",
              "// Max number of bytes which will be uploaded at a time.\n",
              "const MAX_PAYLOAD_SIZE = 100 * 1024;\n",
              "\n",
              "function _uploadFiles(inputId, outputId) {\n",
              "  const steps = uploadFilesStep(inputId, outputId);\n",
              "  const outputElement = document.getElementById(outputId);\n",
              "  // Cache steps on the outputElement to make it available for the next call\n",
              "  // to uploadFilesContinue from Python.\n",
              "  outputElement.steps = steps;\n",
              "\n",
              "  return _uploadFilesContinue(outputId);\n",
              "}\n",
              "\n",
              "// This is roughly an async generator (not supported in the browser yet),\n",
              "// where there are multiple asynchronous steps and the Python side is going\n",
              "// to poll for completion of each step.\n",
              "// This uses a Promise to block the python side on completion of each step,\n",
              "// then passes the result of the previous step as the input to the next step.\n",
              "function _uploadFilesContinue(outputId) {\n",
              "  const outputElement = document.getElementById(outputId);\n",
              "  const steps = outputElement.steps;\n",
              "\n",
              "  const next = steps.next(outputElement.lastPromiseValue);\n",
              "  return Promise.resolve(next.value.promise).then((value) => {\n",
              "    // Cache the last promise value to make it available to the next\n",
              "    // step of the generator.\n",
              "    outputElement.lastPromiseValue = value;\n",
              "    return next.value.response;\n",
              "  });\n",
              "}\n",
              "\n",
              "/**\n",
              " * Generator function which is called between each async step of the upload\n",
              " * process.\n",
              " * @param {string} inputId Element ID of the input file picker element.\n",
              " * @param {string} outputId Element ID of the output display.\n",
              " * @return {!Iterable<!Object>} Iterable of next steps.\n",
              " */\n",
              "function* uploadFilesStep(inputId, outputId) {\n",
              "  const inputElement = document.getElementById(inputId);\n",
              "  inputElement.disabled = false;\n",
              "\n",
              "  const outputElement = document.getElementById(outputId);\n",
              "  outputElement.innerHTML = '';\n",
              "\n",
              "  const pickedPromise = new Promise((resolve) => {\n",
              "    inputElement.addEventListener('change', (e) => {\n",
              "      resolve(e.target.files);\n",
              "    });\n",
              "  });\n",
              "\n",
              "  const cancel = document.createElement('button');\n",
              "  inputElement.parentElement.appendChild(cancel);\n",
              "  cancel.textContent = 'Cancel upload';\n",
              "  const cancelPromise = new Promise((resolve) => {\n",
              "    cancel.onclick = () => {\n",
              "      resolve(null);\n",
              "    };\n",
              "  });\n",
              "\n",
              "  // Wait for the user to pick the files.\n",
              "  const files = yield {\n",
              "    promise: Promise.race([pickedPromise, cancelPromise]),\n",
              "    response: {\n",
              "      action: 'starting',\n",
              "    }\n",
              "  };\n",
              "\n",
              "  cancel.remove();\n",
              "\n",
              "  // Disable the input element since further picks are not allowed.\n",
              "  inputElement.disabled = true;\n",
              "\n",
              "  if (!files) {\n",
              "    return {\n",
              "      response: {\n",
              "        action: 'complete',\n",
              "      }\n",
              "    };\n",
              "  }\n",
              "\n",
              "  for (const file of files) {\n",
              "    const li = document.createElement('li');\n",
              "    li.append(span(file.name, {fontWeight: 'bold'}));\n",
              "    li.append(span(\n",
              "        `(${file.type || 'n/a'}) - ${file.size} bytes, ` +\n",
              "        `last modified: ${\n",
              "            file.lastModifiedDate ? file.lastModifiedDate.toLocaleDateString() :\n",
              "                                    'n/a'} - `));\n",
              "    const percent = span('0% done');\n",
              "    li.appendChild(percent);\n",
              "\n",
              "    outputElement.appendChild(li);\n",
              "\n",
              "    const fileDataPromise = new Promise((resolve) => {\n",
              "      const reader = new FileReader();\n",
              "      reader.onload = (e) => {\n",
              "        resolve(e.target.result);\n",
              "      };\n",
              "      reader.readAsArrayBuffer(file);\n",
              "    });\n",
              "    // Wait for the data to be ready.\n",
              "    let fileData = yield {\n",
              "      promise: fileDataPromise,\n",
              "      response: {\n",
              "        action: 'continue',\n",
              "      }\n",
              "    };\n",
              "\n",
              "    // Use a chunked sending to avoid message size limits. See b/62115660.\n",
              "    let position = 0;\n",
              "    do {\n",
              "      const length = Math.min(fileData.byteLength - position, MAX_PAYLOAD_SIZE);\n",
              "      const chunk = new Uint8Array(fileData, position, length);\n",
              "      position += length;\n",
              "\n",
              "      const base64 = btoa(String.fromCharCode.apply(null, chunk));\n",
              "      yield {\n",
              "        response: {\n",
              "          action: 'append',\n",
              "          file: file.name,\n",
              "          data: base64,\n",
              "        },\n",
              "      };\n",
              "\n",
              "      let percentDone = fileData.byteLength === 0 ?\n",
              "          100 :\n",
              "          Math.round((position / fileData.byteLength) * 100);\n",
              "      percent.textContent = `${percentDone}% done`;\n",
              "\n",
              "    } while (position < fileData.byteLength);\n",
              "  }\n",
              "\n",
              "  // All done.\n",
              "  yield {\n",
              "    response: {\n",
              "      action: 'complete',\n",
              "    }\n",
              "  };\n",
              "}\n",
              "\n",
              "scope.google = scope.google || {};\n",
              "scope.google.colab = scope.google.colab || {};\n",
              "scope.google.colab._files = {\n",
              "  _uploadFiles,\n",
              "  _uploadFilesContinue,\n",
              "};\n",
              "})(self);\n",
              "</script> "
            ]
          },
          "metadata": {}
        },
        {
          "output_type": "stream",
          "name": "stdout",
          "text": [
            "Saving kaggle.json to kaggle (4).json\n"
          ]
        },
        {
          "output_type": "execute_result",
          "data": {
            "text/plain": [
              "{'kaggle.json': b'{\"username\":\"mohamedsameh410\",\"key\":\"3d112c89fff8060b634a255eca9c03af\"}'}"
            ]
          },
          "metadata": {},
          "execution_count": 49
        }
      ]
    },
    {
      "cell_type": "code",
      "source": [
        "!mkdir ~/.kaggle\n",
        "!cp kaggle.json ~/.kaggle/\n",
        "!chmod 600 ~/.kaggle/kaggle.json"
      ],
      "metadata": {
        "id": "rbLk8XJ_jpKn",
        "colab": {
          "base_uri": "https://localhost:8080/"
        },
        "outputId": "4f8d76b5-f323-4b14-e3a8-1883164a38dd"
      },
      "execution_count": 50,
      "outputs": [
        {
          "output_type": "stream",
          "name": "stdout",
          "text": [
            "mkdir: cannot create directory ‘/root/.kaggle’: File exists\n"
          ]
        }
      ]
    },
    {
      "cell_type": "code",
      "source": [
        "!kaggle datasets download ashwingupta3012/human-faces"
      ],
      "metadata": {
        "colab": {
          "base_uri": "https://localhost:8080/"
        },
        "id": "U0Z7UqU6jyvf",
        "outputId": "58096009-2cf8-4f9d-88dd-3fd8c5e6d879"
      },
      "execution_count": 51,
      "outputs": [
        {
          "output_type": "stream",
          "name": "stdout",
          "text": [
            "human-faces.zip: Skipping, found more recently modified local copy (use --force to force download)\n"
          ]
        }
      ]
    },
    {
      "cell_type": "code",
      "source": [
        "!unzip human-faces.zip"
      ],
      "metadata": {
        "colab": {
          "base_uri": "https://localhost:8080/"
        },
        "id": "XrbNQnGGrOM-",
        "outputId": "8fc9a2a1-3492-4ebc-e7a6-62dcea2abe80"
      },
      "execution_count": 52,
      "outputs": [
        {
          "output_type": "stream",
          "name": "stdout",
          "text": [
            "Archive:  human-faces.zip\n",
            "replace Humans/1 (1).jpeg? [y]es, [n]o, [A]ll, [N]one, [r]ename: "
          ]
        }
      ]
    },
    {
      "cell_type": "markdown",
      "source": [
        "Importing tensornoard"
      ],
      "metadata": {
        "id": "UcM7nlG6kuxJ"
      }
    },
    {
      "cell_type": "code",
      "source": [
        "!pip install tensorboard\n",
        "%load_ext tensorboard"
      ],
      "metadata": {
        "colab": {
          "base_uri": "https://localhost:8080/"
        },
        "id": "kZIdryWikyqm",
        "outputId": "db8c4c61-94c9-47e9-9ed8-4dafb5278c65"
      },
      "execution_count": 53,
      "outputs": [
        {
          "output_type": "stream",
          "name": "stdout",
          "text": [
            "Looking in indexes: https://pypi.org/simple, https://us-python.pkg.dev/colab-wheels/public/simple/\n",
            "Requirement already satisfied: tensorboard in /usr/local/lib/python3.10/dist-packages (2.12.2)\n",
            "Requirement already satisfied: wheel>=0.26 in /usr/local/lib/python3.10/dist-packages (from tensorboard) (0.40.0)\n",
            "Requirement already satisfied: tensorboard-plugin-wit>=1.6.0 in /usr/local/lib/python3.10/dist-packages (from tensorboard) (1.8.1)\n",
            "Requirement already satisfied: protobuf>=3.19.6 in /usr/local/lib/python3.10/dist-packages (from tensorboard) (3.20.3)\n",
            "Requirement already satisfied: werkzeug>=1.0.1 in /usr/local/lib/python3.10/dist-packages (from tensorboard) (2.3.0)\n",
            "Requirement already satisfied: google-auth-oauthlib<1.1,>=0.5 in /usr/local/lib/python3.10/dist-packages (from tensorboard) (1.0.0)\n",
            "Requirement already satisfied: tensorboard-data-server<0.8.0,>=0.7.0 in /usr/local/lib/python3.10/dist-packages (from tensorboard) (0.7.0)\n",
            "Requirement already satisfied: grpcio>=1.48.2 in /usr/local/lib/python3.10/dist-packages (from tensorboard) (1.54.0)\n",
            "Requirement already satisfied: setuptools>=41.0.0 in /usr/local/lib/python3.10/dist-packages (from tensorboard) (67.7.2)\n",
            "Requirement already satisfied: numpy>=1.12.0 in /usr/local/lib/python3.10/dist-packages (from tensorboard) (1.22.4)\n",
            "Requirement already satisfied: requests<3,>=2.21.0 in /usr/local/lib/python3.10/dist-packages (from tensorboard) (2.27.1)\n",
            "Requirement already satisfied: google-auth<3,>=1.6.3 in /usr/local/lib/python3.10/dist-packages (from tensorboard) (2.17.3)\n",
            "Requirement already satisfied: absl-py>=0.4 in /usr/local/lib/python3.10/dist-packages (from tensorboard) (1.4.0)\n",
            "Requirement already satisfied: markdown>=2.6.8 in /usr/local/lib/python3.10/dist-packages (from tensorboard) (3.4.3)\n",
            "Requirement already satisfied: rsa<5,>=3.1.4 in /usr/local/lib/python3.10/dist-packages (from google-auth<3,>=1.6.3->tensorboard) (4.9)\n",
            "Requirement already satisfied: pyasn1-modules>=0.2.1 in /usr/local/lib/python3.10/dist-packages (from google-auth<3,>=1.6.3->tensorboard) (0.3.0)\n",
            "Requirement already satisfied: six>=1.9.0 in /usr/local/lib/python3.10/dist-packages (from google-auth<3,>=1.6.3->tensorboard) (1.16.0)\n",
            "Requirement already satisfied: cachetools<6.0,>=2.0.0 in /usr/local/lib/python3.10/dist-packages (from google-auth<3,>=1.6.3->tensorboard) (5.3.0)\n",
            "Requirement already satisfied: requests-oauthlib>=0.7.0 in /usr/local/lib/python3.10/dist-packages (from google-auth-oauthlib<1.1,>=0.5->tensorboard) (1.3.1)\n",
            "Requirement already satisfied: urllib3<1.27,>=1.21.1 in /usr/local/lib/python3.10/dist-packages (from requests<3,>=2.21.0->tensorboard) (1.26.15)\n",
            "Requirement already satisfied: idna<4,>=2.5 in /usr/local/lib/python3.10/dist-packages (from requests<3,>=2.21.0->tensorboard) (3.4)\n",
            "Requirement already satisfied: certifi>=2017.4.17 in /usr/local/lib/python3.10/dist-packages (from requests<3,>=2.21.0->tensorboard) (2022.12.7)\n",
            "Requirement already satisfied: charset-normalizer~=2.0.0 in /usr/local/lib/python3.10/dist-packages (from requests<3,>=2.21.0->tensorboard) (2.0.12)\n",
            "Requirement already satisfied: MarkupSafe>=2.1.1 in /usr/local/lib/python3.10/dist-packages (from werkzeug>=1.0.1->tensorboard) (2.1.2)\n",
            "Requirement already satisfied: pyasn1<0.6.0,>=0.4.6 in /usr/local/lib/python3.10/dist-packages (from pyasn1-modules>=0.2.1->google-auth<3,>=1.6.3->tensorboard) (0.5.0)\n",
            "Requirement already satisfied: oauthlib>=3.0.0 in /usr/local/lib/python3.10/dist-packages (from requests-oauthlib>=0.7.0->google-auth-oauthlib<1.1,>=0.5->tensorboard) (3.2.2)\n",
            "The tensorboard extension is already loaded. To reload it, use:\n",
            "  %reload_ext tensorboard\n"
          ]
        }
      ]
    },
    {
      "cell_type": "markdown",
      "source": [
        "Discriminator's implementation"
      ],
      "metadata": {
        "id": "tMzalzaKlBKR"
      }
    },
    {
      "cell_type": "code",
      "source": [
        "class Discriminator (nn.Module):\n",
        "  def __init__(self, channels_img, features_d) :\n",
        "    super(Discriminator, self).__init__()\n",
        "    self.disc = nn.Sequential(\n",
        "        #input: Nx64x64x3\n",
        "        #applying (N+2p-f)/stride+1\n",
        "        nn.Conv2d(\n",
        "            channels_img, features_d, kernel_size=4, stride=2, padding=1\n",
        "        ), #32x32\n",
        "        nn.LeakyReLU(0.2),\n",
        "        self._block(features_d, features_d * 2, 4,2,1), #16x16\n",
        "        self._block(features_d * 2, features_d * 4, 4,2,1), #8x8\n",
        "        self._block(features_d * 4, features_d * 8, 4,2,1), #4x4\n",
        "        nn.Conv2d(features_d * 8, 1, kernel_size=4, stride=2, padding=0),#1x1\n",
        "        nn.Sigmoid(),\n",
        "    )\n",
        "\n",
        "  def _block(self, in_channels, out_channels, kernel_size, stride, padding):\n",
        "    return nn.Sequential(\n",
        "        nn.Conv2d(\n",
        "            in_channels,\n",
        "            out_channels,\n",
        "            kernel_size,\n",
        "            stride,\n",
        "            padding,\n",
        "            bias=False,\n",
        "        ),\n",
        "        nn.BatchNorm2d(out_channels),\n",
        "        nn.LeakyReLU(0.2),\n",
        "    )\n",
        "  def forward(self, x):\n",
        "    return self.disc(x)"
      ],
      "metadata": {
        "id": "CXUPtdw4lCAD"
      },
      "execution_count": 54,
      "outputs": []
    },
    {
      "cell_type": "markdown",
      "source": [
        "Generator's implementation"
      ],
      "metadata": {
        "id": "2zlAkCItlHAW"
      }
    },
    {
      "cell_type": "code",
      "source": [
        "class Generator(nn.Module):\n",
        "  def __init__(self, z_dim, channels_img, features_g) :\n",
        "    super(Generator, self).__init__()\n",
        "    self.gen = nn.Sequential(\n",
        "        #Input: N x z_dim x 1 x 1\n",
        "        self._block(z_dim, features_g * 16, 4, 1, 0), #4x4\n",
        "        self._block(features_g * 16, features_g * 8, 4, 2, 1), #8x8\n",
        "        self._block(features_g * 8, features_g * 4, 4, 2, 1), #16x16\n",
        "        self._block(features_g * 4, features_g * 2, 4, 2, 1), #32x32\n",
        "        nn.ConvTranspose2d(\n",
        "            features_g * 2, channels_img, kernel_size=4, stride=2, padding=1,\n",
        "        ), #64x64x3\n",
        "        nn.Tanh(), #[-1, 1]\n",
        "    )\n",
        "  def _block(self, in_channels, out_channels, kernel_size, stride, padding):\n",
        "    return nn.Sequential(\n",
        "        nn.ConvTranspose2d(\n",
        "            in_channels,\n",
        "            out_channels,\n",
        "            kernel_size,\n",
        "            stride,\n",
        "            padding,\n",
        "            bias=False,\n",
        "        ),\n",
        "        nn.BatchNorm2d(out_channels),\n",
        "        nn.ReLU(),\n",
        "    )\n",
        "  def forward(self, x):\n",
        "    x = x + torch.randn_like(x) * 0.1\n",
        "    return self.gen(x)"
      ],
      "metadata": {
        "id": "rKzMA5UclLNx"
      },
      "execution_count": 55,
      "outputs": []
    },
    {
      "cell_type": "markdown",
      "source": [
        "Initialize Weights"
      ],
      "metadata": {
        "id": "0k1H62EElPty"
      }
    },
    {
      "cell_type": "code",
      "source": [
        "def initialize_weights(model):\n",
        "  for m in model.modules():\n",
        "    if isinstance(m, (nn.Conv2d, nn.ConvTranspose2d, nn.BatchNorm2d)):\n",
        "      nn.init.normal_(m.weight.data, 0.0, 0.02)"
      ],
      "metadata": {
        "id": "ifBjDYEUlTTt"
      },
      "execution_count": 56,
      "outputs": []
    },
    {
      "cell_type": "markdown",
      "source": [
        "Testing Models"
      ],
      "metadata": {
        "id": "PsTn52TPlWzi"
      }
    },
    {
      "cell_type": "code",
      "source": [
        "def test():\n",
        "  N, in_channels, H, W = 8, 3, 64, 64\n",
        "  z_dim = 100\n",
        "  x= torch.randn((N, in_channels, H, W))\n",
        "  disc = Discriminator(in_channels, 8)\n",
        "  initialize_weights(disc)\n",
        "  assert disc(x).shape == (N, 1, 1, 1)\n",
        "  gen = Generator(z_dim, in_channels, 8)\n",
        "  initialize_weights(gen)\n",
        "  z = torch.randn((N, z_dim, 1, 1))\n",
        "  assert gen(z).shape == (N, in_channels, H, W)\n",
        "  print(\"models do not have errors\")"
      ],
      "metadata": {
        "id": "eHtIODsAlacY"
      },
      "execution_count": 57,
      "outputs": []
    },
    {
      "cell_type": "code",
      "source": [
        "test()"
      ],
      "metadata": {
        "colab": {
          "base_uri": "https://localhost:8080/"
        },
        "id": "PLGyEQ_8ld56",
        "outputId": "780133ee-c6ce-4448-cf08-9fd39de3f3ea"
      },
      "execution_count": 58,
      "outputs": [
        {
          "output_type": "stream",
          "name": "stdout",
          "text": [
            "models do not have errors\n"
          ]
        }
      ]
    },
    {
      "cell_type": "markdown",
      "source": [
        "Hyperparameters"
      ],
      "metadata": {
        "id": "Aj9uDfNfljUk"
      }
    },
    {
      "cell_type": "code",
      "source": [
        "#sets the device where the tensors and models will be allocated.\n",
        "#or check if gpu is free will run the model on it if not will run the model on cpu\n",
        "device = torch.device(\"cuda\" if torch.cuda.is_available() else \"cpu\")\n",
        "Learning_Rate = 2e-4\n",
        "Batch_Size = 32\n",
        "Image_size = 64\n",
        "Channels_img = 3\n",
        "Z_dim = 100\n",
        "Num_Epochs = 20\n",
        "Features_Disc = 64\n",
        "Features_Gen = 64\n",
        "#applying transformations together on the input images\n",
        "transforms = transforms.Compose(\n",
        "    [\n",
        "        transforms.Resize((64, 64)),\n",
        "     transforms.ToTensor(),# A tensor is a multi-dimensional array that can be used as input to a neural network\n",
        "     transforms.Normalize(\n",
        "         [0.5 for _ in range(Channels_img)], [0.5 for _ in range(Channels_img)],#mean 0.5 and a standard deviation 0.5\n",
        "     )\n",
        "    ]\n",
        ")"
      ],
      "metadata": {
        "id": "0kmPSb8Ilkqn"
      },
      "execution_count": 59,
      "outputs": []
    },
    {
      "cell_type": "markdown",
      "source": [
        "Loading the dataset"
      ],
      "metadata": {
        "id": "9hXLFcvmlsuO"
      }
    },
    {
      "cell_type": "code",
      "source": [
        "dataset = datasets.ImageFolder(root=\"/content/Dataset\",transform=transforms)\n",
        "data_loader = DataLoader(dataset, batch_size=Batch_Size, shuffle=True)"
      ],
      "metadata": {
        "id": "gQNpS1dilwHp"
      },
      "execution_count": 60,
      "outputs": []
    },
    {
      "cell_type": "markdown",
      "source": [
        "Training"
      ],
      "metadata": {
        "id": "3pj5ywWImGh2"
      }
    },
    {
      "cell_type": "code",
      "source": [
        "gen = Generator(Z_dim, Channels_img,Features_Gen).to(device)\n",
        "disc = Discriminator(Channels_img, Features_Disc).to(device)\n",
        "initialize_weights(gen)\n",
        "initialize_weights(disc)\n",
        "\n",
        "#optimizers\n",
        "optim_gen = optim.Adam(gen.parameters(), lr=Learning_Rate, betas=(0.5, 0.999))\n",
        "optim_disc = optim.Adam(disc.parameters(), lr=Learning_Rate, betas=(0.5, 0.999))\n",
        "criterion = nn.BCELoss()\n",
        "\n",
        "fixed_noise = torch.randn(32, Z_dim, 1, 1).to(device)\n",
        "writer_real = SummaryWriter(f\"logs/real\")\n",
        "writer_fake = SummaryWriter(f\"logs/fake\")\n",
        "step = 0\n",
        "\n",
        "gen.train()\n",
        "disc.train()\n",
        "\n",
        "for epoch in range(Num_Epochs):\n",
        "  for batch_idx, (real, _) in enumerate(data_loader):\n",
        "    real = real.to(device)\n",
        "    noise = torch.randn((Batch_Size, Z_dim, 1, 1)).to(device)\n",
        "    fake = gen(noise)\n",
        "\n",
        "    #Train disc\n",
        "    disc_real = disc(real).reshape(-1)\n",
        "    loss_disc_real = criterion(disc_real, torch.ones_like(disc_real))\n",
        "    disc_fake = disc(fake).reshape(-1)\n",
        "    loss_disc_fake = criterion(disc_fake, torch.zeros_like(disc_fake))\n",
        "    loss_disc = (loss_disc_real + loss_disc_fake) / 2\n",
        "    disc.zero_grad()\n",
        "    loss_disc.backward(retain_graph = True)\n",
        "    optim_disc.step()\n",
        "\n",
        "    #Train gen\n",
        "    output = disc(fake).reshape(-1)\n",
        "    loss_gen = criterion(output, torch.ones_like(output))\n",
        "    gen.zero_grad()\n",
        "    loss_gen.backward()\n",
        "    optim_gen.step()\n",
        "  \n",
        "    #print losses accasionally and print to tensorboard\n",
        "    if batch_idx % 100 ==0:\n",
        "      print(f\"Epoch [{epoch}/{Num_Epochs}] Batch {batch_idx}/{len(data_loader)} \\\n",
        "            Loss D: {loss_disc:.4f}, Loss G: {loss_gen:.4f}\")\n",
        "      with torch.no_grad():\n",
        "        fake = gen(fixed_noise)\n",
        "        # take out (up to) 32 examples\n",
        "        img_grid_real = torchvision.utils.make_grid(\n",
        "            real[:32], normalize=True\n",
        "        )\n",
        "        img_grid_fake = torchvision.utils.make_grid(\n",
        "            fake[:32], normalize=True\n",
        "        )\n",
        "\n",
        "        writer_real.add_image(\"Real\", img_grid_real, global_step=step)\n",
        "        writer_fake.add_image(\"Fake\", img_grid_fake, global_step=step)\n",
        "      step += 1"
      ],
      "metadata": {
        "id": "6qcM-hHhmKZt",
        "colab": {
          "base_uri": "https://localhost:8080/"
        },
        "outputId": "d8497199-a087-4ba0-a4dc-95623191afe5"
      },
      "execution_count": null,
      "outputs": [
        {
          "output_type": "stream",
          "name": "stdout",
          "text": [
            "Epoch [0/20] Batch 0/226             Loss D: 0.6927, Loss G: 0.8084\n"
          ]
        },
        {
          "output_type": "stream",
          "name": "stderr",
          "text": [
            "/usr/local/lib/python3.10/dist-packages/PIL/Image.py:975: UserWarning: Palette images with Transparency expressed in bytes should be converted to RGBA images\n",
            "  warnings.warn(\n"
          ]
        },
        {
          "output_type": "stream",
          "name": "stdout",
          "text": [
            "Epoch [0/20] Batch 100/226             Loss D: 0.0160, Loss G: 4.2088\n",
            "Epoch [0/20] Batch 200/226             Loss D: 0.2861, Loss G: 2.3531\n",
            "Epoch [1/20] Batch 0/226             Loss D: 0.4407, Loss G: 2.4641\n",
            "Epoch [1/20] Batch 100/226             Loss D: 0.5913, Loss G: 2.0812\n",
            "Epoch [1/20] Batch 200/226             Loss D: 0.6116, Loss G: 2.4120\n",
            "Epoch [2/20] Batch 0/226             Loss D: 0.5731, Loss G: 1.7682\n",
            "Epoch [2/20] Batch 100/226             Loss D: 0.8063, Loss G: 2.0064\n",
            "Epoch [2/20] Batch 200/226             Loss D: 0.5169, Loss G: 1.7382\n",
            "Epoch [3/20] Batch 0/226             Loss D: 0.5154, Loss G: 1.4813\n",
            "Epoch [3/20] Batch 100/226             Loss D: 0.5569, Loss G: 2.3393\n",
            "Epoch [3/20] Batch 200/226             Loss D: 0.5892, Loss G: 2.1470\n",
            "Epoch [4/20] Batch 0/226             Loss D: 0.5406, Loss G: 1.7643\n",
            "Epoch [4/20] Batch 100/226             Loss D: 0.5376, Loss G: 2.4717\n",
            "Epoch [4/20] Batch 200/226             Loss D: 0.4589, Loss G: 1.2705\n",
            "Epoch [5/20] Batch 0/226             Loss D: 0.4703, Loss G: 2.2452\n",
            "Epoch [5/20] Batch 100/226             Loss D: 0.6258, Loss G: 0.9743\n",
            "Epoch [5/20] Batch 200/226             Loss D: 0.8100, Loss G: 3.7215\n",
            "Epoch [6/20] Batch 0/226             Loss D: 0.2909, Loss G: 2.1481\n",
            "Epoch [6/20] Batch 100/226             Loss D: 0.5281, Loss G: 3.2952\n",
            "Epoch [6/20] Batch 200/226             Loss D: 0.4471, Loss G: 1.6435\n",
            "Epoch [7/20] Batch 0/226             Loss D: 0.4303, Loss G: 2.6450\n",
            "Epoch [7/20] Batch 100/226             Loss D: 0.2808, Loss G: 1.7888\n",
            "Epoch [7/20] Batch 200/226             Loss D: 0.4112, Loss G: 2.0030\n",
            "Epoch [8/20] Batch 0/226             Loss D: 0.3908, Loss G: 2.9941\n",
            "Epoch [8/20] Batch 100/226             Loss D: 0.3455, Loss G: 2.7071\n",
            "Epoch [8/20] Batch 200/226             Loss D: 0.8656, Loss G: 2.4013\n",
            "Epoch [9/20] Batch 0/226             Loss D: 0.4767, Loss G: 2.4380\n",
            "Epoch [9/20] Batch 100/226             Loss D: 0.3052, Loss G: 2.4497\n",
            "Epoch [9/20] Batch 200/226             Loss D: 0.5722, Loss G: 4.5287\n",
            "Epoch [10/20] Batch 0/226             Loss D: 0.4341, Loss G: 3.3200\n",
            "Epoch [10/20] Batch 100/226             Loss D: 0.1669, Loss G: 3.0691\n",
            "Epoch [10/20] Batch 200/226             Loss D: 0.4207, Loss G: 1.9028\n",
            "Epoch [11/20] Batch 0/226             Loss D: 0.3851, Loss G: 3.7657\n",
            "Epoch [11/20] Batch 100/226             Loss D: 0.3022, Loss G: 3.1023\n",
            "Epoch [11/20] Batch 200/226             Loss D: 0.3784, Loss G: 2.3792\n",
            "Epoch [12/20] Batch 0/226             Loss D: 0.2277, Loss G: 3.3017\n",
            "Epoch [12/20] Batch 100/226             Loss D: 0.3325, Loss G: 2.9606\n",
            "Epoch [12/20] Batch 200/226             Loss D: 0.1949, Loss G: 2.3009\n",
            "Epoch [13/20] Batch 0/226             Loss D: 0.2535, Loss G: 3.2164\n",
            "Epoch [13/20] Batch 100/226             Loss D: 0.4005, Loss G: 1.4004\n",
            "Epoch [13/20] Batch 200/226             Loss D: 0.2497, Loss G: 1.7493\n",
            "Epoch [14/20] Batch 0/226             Loss D: 0.4415, Loss G: 4.3786\n",
            "Epoch [14/20] Batch 100/226             Loss D: 0.3383, Loss G: 2.0515\n",
            "Epoch [14/20] Batch 200/226             Loss D: 0.3070, Loss G: 3.7291\n",
            "Epoch [15/20] Batch 0/226             Loss D: 0.2151, Loss G: 2.4468\n",
            "Epoch [15/20] Batch 100/226             Loss D: 0.2523, Loss G: 2.2482\n",
            "Epoch [15/20] Batch 200/226             Loss D: 0.2283, Loss G: 2.9533\n",
            "Epoch [16/20] Batch 0/226             Loss D: 0.1701, Loss G: 2.9723\n",
            "Epoch [16/20] Batch 100/226             Loss D: 0.2043, Loss G: 4.2718\n",
            "Epoch [16/20] Batch 200/226             Loss D: 0.3667, Loss G: 2.0755\n",
            "Epoch [17/20] Batch 0/226             Loss D: 0.2776, Loss G: 2.9707\n",
            "Epoch [17/20] Batch 100/226             Loss D: 0.2338, Loss G: 2.5904\n",
            "Epoch [17/20] Batch 200/226             Loss D: 0.4287, Loss G: 5.4017\n",
            "Epoch [18/20] Batch 0/226             Loss D: 0.3034, Loss G: 1.9914\n"
          ]
        }
      ]
    },
    {
      "cell_type": "code",
      "source": [
        "%tensorboard --logdir=/content/logs"
      ],
      "metadata": {
        "id": "52fX2rmUmbYg",
        "colab": {
          "base_uri": "https://localhost:8080/"
        },
        "outputId": "d4be827d-a7e2-4a94-9eca-4f88a17f635c"
      },
      "execution_count": 1,
      "outputs": [
        {
          "output_type": "stream",
          "name": "stderr",
          "text": [
            "UsageError: Line magic function `%tensorboard` not found.\n"
          ]
        }
      ]
    }
  ]
}